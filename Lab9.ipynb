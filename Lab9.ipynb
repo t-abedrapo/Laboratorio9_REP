{
  "cells": [
    {
      "cell_type": "markdown",
      "metadata": {
        "cell_id": "b5c0d2440b3e4995a794ded565213150",
        "deepnote_cell_type": "markdown",
        "id": "_Mql1uRoI5v5"
      },
      "source": [
        "<h1><center>Laboratorio 9: Optimización de modelos 💯</center></h1>\n",
        "\n",
        "<center><strong>MDS7202: Laboratorio de Programación Científica para Ciencia de Datos</strong></center>"
      ]
    },
    {
      "cell_type": "markdown",
      "metadata": {
        "cell_id": "bfb94b9656f145ad83e81b75d218cb70",
        "deepnote_cell_type": "markdown",
        "id": "FAPGIlEAI5v8"
      },
      "source": [
        "### Cuerpo Docente:\n",
        "\n",
        "- Profesores: Ignacio Meza, Sebastián Tinoco\n",
        "- Auxiliares: Catherine Benavides y Consuelo Rojas\n",
        "- Ayudante: Nicolás Ojeda, Eduardo Moya"
      ]
    },
    {
      "cell_type": "markdown",
      "metadata": {
        "cell_id": "b1b537fdd27c43909a49d3476ce64d91",
        "deepnote_cell_type": "markdown",
        "id": "8NozgbkZI5v9"
      },
      "source": [
        "### Equipo: SUPER IMPORTANTE - notebooks sin nombre no serán revisados\n",
        "\n",
        "- Nombre de alumno: **Tomás Abedrapo**"
      ]
    },
    {
      "cell_type": "markdown",
      "metadata": {
        "cell_id": "b7dbdd30ab544cb8a8afe00648a586ae",
        "deepnote_cell_type": "markdown",
        "id": "vHU9DI6wI5v9"
      },
      "source": [
        "### Temas a tratar\n",
        "\n",
        "- Predicción de demanda usando `xgboost`\n",
        "- Búsqueda del modelo óptimo de clasificación usando `optuna`\n",
        "- Uso de pipelines.\n",
        "\n",
        "### Reglas:\n",
        "\n",
        "- **Grupos de 2 personas**\n",
        "- Cualquier duda fuera del horario de clases al foro. Mensajes al equipo docente serán respondidos por este medio.\n",
        "- Prohibidas las copias.\n",
        "- Pueden usar cualquer matrial del curso que estimen conveniente.\n",
        "- Código que no se pueda ejecutar, no será revisado.\n",
        "\n",
        "### Objetivos principales del laboratorio\n",
        "\n",
        "- Optimizar modelos usando `optuna`\n",
        "- Recurrir a técnicas de *prunning*\n",
        "- Forzar el aprendizaje de relaciones entre variables mediante *constraints*\n",
        "- Fijar un pipeline con un modelo base que luego se irá optimizando.\n",
        "\n",
        "El laboratorio deberá ser desarrollado sin el uso indiscriminado de iteradores nativos de python (aka \"for\", \"while\"). La idea es que aprendan a exprimir al máximo las funciones optimizadas que nos entrega `pandas`, las cuales vale mencionar, son bastante más eficientes que los iteradores nativos sobre DataFrames."
      ]
    },
    {
      "cell_type": "markdown",
      "metadata": {
        "cell_id": "f38c8342f5164aa992a97488dd5590bf",
        "deepnote_cell_type": "markdown",
        "id": "3Ceri_rbI5v9"
      },
      "source": [
        "### **Link de repositorio de GitHub:** `https://github.com/t-abedrapo/Laboratorio9_REP.git`"
      ]
    },
    {
      "cell_type": "markdown",
      "metadata": {
        "cell_id": "f1c73babb7f74af588a4fa6ae14829e0",
        "deepnote_cell_type": "markdown",
        "id": "U_-sNOuOI5v9"
      },
      "source": [
        "# Importamos librerias útiles"
      ]
    },
    {
      "cell_type": "code",
      "execution_count": null,
      "metadata": {
        "cell_id": "51afe4d2df42442b9e5402ffece60ead",
        "deepnote_cell_type": "code",
        "deepnote_to_be_reexecuted": false,
        "execution_millis": 4957,
        "execution_start": 1699544354044,
        "id": "ekHbM85NI5v9",
        "source_hash": null
      },
      "outputs": [],
      "source": [
        "!pip install -qq xgboost optuna"
      ]
    },
    {
      "cell_type": "markdown",
      "metadata": {
        "id": "y6hJXpLCSspz"
      },
      "source": [
        "# El emprendimiento de Fiu"
      ]
    },
    {
      "cell_type": "markdown",
      "metadata": {
        "cell_id": "44d227389a734ac59189c5e0005bc68a",
        "deepnote_cell_type": "markdown",
        "id": "b0bDalAOI5v-"
      },
      "source": [
        "Tras liderar de manera exitosa la implementación de un proyecto de ciencia de datos para caracterizar los datos generados en Santiago 2023, el misterioso corpóreo **Fiu** se anima y decide levantar su propio negocio de consultoría en machine learning. Tras varias e intensas negociaciones, Fiu logra encontrar su *primera chamba*: predecir la demanda (cantidad de venta) de una famosa productora de bebidas de calibre mundial. Como usted tuvo un rendimiento sobresaliente en el proyecto de caracterización de datos, Fiu lo contrata como *data scientist* de su emprendimiento.\n",
        "\n",
        "Para este laboratorio deben trabajar con los datos `sales.csv` subidos a u-cursos, el cual contiene una muestra de ventas de la empresa para diferentes productos en un determinado tiempo.\n",
        "\n",
        "Para comenzar, cargue el dataset señalado y visualice a través de un `.head` los atributos que posee el dataset.\n",
        "\n",
        "<i><p align=\"center\">Fiu siendo felicitado por su excelente desempeño en el proyecto de caracterización de datos</p></i>\n",
        "<p align=\"center\">\n",
        "  <img src=\"https://media-front.elmostrador.cl/2023/09/A_UNO_1506411_2440e.jpg\">\n",
        "</p>"
      ]
    },
    {
      "cell_type": "code",
      "execution_count": null,
      "metadata": {
        "cell_id": "2f9c82d204b14515ad27ae07e0b77702",
        "deepnote_cell_type": "code",
        "deepnote_to_be_reexecuted": false,
        "execution_millis": 92,
        "execution_start": 1699544359006,
        "id": "QvMPOqHuI5v-",
        "outputId": "659e7a12-d74d-45d6-d3c2-33a6cd338585",
        "source_hash": null
      },
      "outputs": [
        {
          "name": "stderr",
          "output_type": "stream",
          "text": [
            "/tmp/ipykernel_563/3194803182.py:6: UserWarning: Could not infer format, so each element will be parsed individually, falling back to `dateutil`. To ensure parsing is consistent and as-expected, please specify a format.\n",
            "  df['date'] = pd.to_datetime(df['date'])\n"
          ]
        },
        {
          "data": {
            "application/vnd.deepnote.dataframe.v3+json": {
              "column_count": 12,
              "columns": [
                {
                  "dtype": "int64",
                  "name": "id",
                  "stats": {
                    "histogram": [
                      {
                        "bin_end": 6480.4,
                        "bin_start": 6480,
                        "count": 1
                      },
                      {
                        "bin_end": 6480.8,
                        "bin_start": 6480.4,
                        "count": 0
                      },
                      {
                        "bin_end": 6481.2,
                        "bin_start": 6480.8,
                        "count": 1
                      },
                      {
                        "bin_end": 6481.6,
                        "bin_start": 6481.2,
                        "count": 0
                      },
                      {
                        "bin_end": 6482,
                        "bin_start": 6481.6,
                        "count": 0
                      },
                      {
                        "bin_end": 6482.4,
                        "bin_start": 6482,
                        "count": 1
                      },
                      {
                        "bin_end": 6482.8,
                        "bin_start": 6482.4,
                        "count": 0
                      },
                      {
                        "bin_end": 6483.2,
                        "bin_start": 6482.8,
                        "count": 1
                      },
                      {
                        "bin_end": 6483.6,
                        "bin_start": 6483.2,
                        "count": 0
                      },
                      {
                        "bin_end": 6484,
                        "bin_start": 6483.6,
                        "count": 1
                      }
                    ],
                    "max": "6484",
                    "min": "6480",
                    "nan_count": 0,
                    "unique_count": 5
                  }
                },
                {
                  "dtype": "datetime64[ns]",
                  "name": "date",
                  "stats": {
                    "histogram": null,
                    "max": "2018-01-31 00:00:00",
                    "min": "2018-01-31 00:00:00",
                    "nan_count": 0,
                    "unique_count": 1
                  }
                },
                {
                  "dtype": "object",
                  "name": "city",
                  "stats": {
                    "categories": [
                      {
                        "count": 5,
                        "name": "Athens"
                      }
                    ],
                    "nan_count": 0,
                    "unique_count": 1
                  }
                },
                {
                  "dtype": "float64",
                  "name": "lat",
                  "stats": {
                    "histogram": [
                      {
                        "bin_end": 37.57945,
                        "bin_start": 37.47945,
                        "count": 0
                      },
                      {
                        "bin_end": 37.67945,
                        "bin_start": 37.57945,
                        "count": 0
                      },
                      {
                        "bin_end": 37.77945,
                        "bin_start": 37.67945,
                        "count": 0
                      },
                      {
                        "bin_end": 37.87945,
                        "bin_start": 37.77945,
                        "count": 0
                      },
                      {
                        "bin_end": 37.97945,
                        "bin_start": 37.87945,
                        "count": 0
                      },
                      {
                        "bin_end": 38.07945,
                        "bin_start": 37.97945,
                        "count": 5
                      },
                      {
                        "bin_end": 38.17945,
                        "bin_start": 38.07945,
                        "count": 0
                      },
                      {
                        "bin_end": 38.27945,
                        "bin_start": 38.17945,
                        "count": 0
                      },
                      {
                        "bin_end": 38.37945,
                        "bin_start": 38.27945,
                        "count": 0
                      },
                      {
                        "bin_end": 38.47945,
                        "bin_start": 38.37945,
                        "count": 0
                      }
                    ],
                    "max": "37.97945",
                    "min": "37.97945",
                    "nan_count": 0,
                    "unique_count": 1
                  }
                },
                {
                  "dtype": "float64",
                  "name": "long",
                  "stats": {
                    "histogram": [
                      {
                        "bin_end": 23.31622,
                        "bin_start": 23.21622,
                        "count": 0
                      },
                      {
                        "bin_end": 23.41622,
                        "bin_start": 23.31622,
                        "count": 0
                      },
                      {
                        "bin_end": 23.51622,
                        "bin_start": 23.41622,
                        "count": 0
                      },
                      {
                        "bin_end": 23.61622,
                        "bin_start": 23.51622,
                        "count": 0
                      },
                      {
                        "bin_end": 23.71622,
                        "bin_start": 23.61622,
                        "count": 0
                      },
                      {
                        "bin_end": 23.81622,
                        "bin_start": 23.71622,
                        "count": 5
                      },
                      {
                        "bin_end": 23.91622,
                        "bin_start": 23.81622,
                        "count": 0
                      },
                      {
                        "bin_end": 24.01622,
                        "bin_start": 23.91622,
                        "count": 0
                      },
                      {
                        "bin_end": 24.11622,
                        "bin_start": 24.01622,
                        "count": 0
                      },
                      {
                        "bin_end": 24.21622,
                        "bin_start": 24.11622,
                        "count": 0
                      }
                    ],
                    "max": "23.71622",
                    "min": "23.71622",
                    "nan_count": 0,
                    "unique_count": 1
                  }
                },
                {
                  "dtype": "int64",
                  "name": "pop",
                  "stats": {
                    "histogram": [
                      {
                        "bin_end": 664045.6,
                        "bin_start": 664045.5,
                        "count": 0
                      },
                      {
                        "bin_end": 664045.7,
                        "bin_start": 664045.6,
                        "count": 0
                      },
                      {
                        "bin_end": 664045.8,
                        "bin_start": 664045.7,
                        "count": 0
                      },
                      {
                        "bin_end": 664045.9,
                        "bin_start": 664045.8,
                        "count": 0
                      },
                      {
                        "bin_end": 664046,
                        "bin_start": 664045.9,
                        "count": 0
                      },
                      {
                        "bin_end": 664046.1,
                        "bin_start": 664046,
                        "count": 5
                      },
                      {
                        "bin_end": 664046.2,
                        "bin_start": 664046.1,
                        "count": 0
                      },
                      {
                        "bin_end": 664046.3,
                        "bin_start": 664046.2,
                        "count": 0
                      },
                      {
                        "bin_end": 664046.4,
                        "bin_start": 664046.3,
                        "count": 0
                      },
                      {
                        "bin_end": 664046.5,
                        "bin_start": 664046.4,
                        "count": 0
                      }
                    ],
                    "max": "664046",
                    "min": "664046",
                    "nan_count": 0,
                    "unique_count": 1
                  }
                },
                {
                  "dtype": "object",
                  "name": "shop",
                  "stats": {
                    "categories": [
                      {
                        "count": 5,
                        "name": "shop_1"
                      }
                    ],
                    "nan_count": 0,
                    "unique_count": 1
                  }
                },
                {
                  "dtype": "object",
                  "name": "brand",
                  "stats": {
                    "categories": [
                      {
                        "count": 2,
                        "name": "kinder-cola"
                      },
                      {
                        "count": 2,
                        "name": "orange-power"
                      },
                      {
                        "count": 1,
                        "name": "adult-cola"
                      }
                    ],
                    "nan_count": 0,
                    "unique_count": 3
                  }
                },
                {
                  "dtype": "object",
                  "name": "container",
                  "stats": {
                    "categories": [
                      {
                        "count": 2,
                        "name": "plastic"
                      },
                      {
                        "count": 2,
                        "name": "glass"
                      },
                      {
                        "count": 1,
                        "name": "can"
                      }
                    ],
                    "nan_count": 0,
                    "unique_count": 3
                  }
                },
                {
                  "dtype": "object",
                  "name": "capacity",
                  "stats": {
                    "categories": [
                      {
                        "count": 2,
                        "name": "1.5lt"
                      },
                      {
                        "count": 2,
                        "name": "500ml"
                      },
                      {
                        "count": 1,
                        "name": "330ml"
                      }
                    ],
                    "nan_count": 0,
                    "unique_count": 3
                  }
                },
                {
                  "dtype": "float64",
                  "name": "price",
                  "stats": {
                    "histogram": [
                      {
                        "bin_end": 0.796,
                        "bin_start": 0.54,
                        "count": 1
                      },
                      {
                        "bin_end": 1.052,
                        "bin_start": 0.796,
                        "count": 3
                      },
                      {
                        "bin_end": 1.308,
                        "bin_start": 1.052,
                        "count": 0
                      },
                      {
                        "bin_end": 1.564,
                        "bin_start": 1.308,
                        "count": 0
                      },
                      {
                        "bin_end": 1.82,
                        "bin_start": 1.564,
                        "count": 0
                      },
                      {
                        "bin_end": 2.076,
                        "bin_start": 1.82,
                        "count": 0
                      },
                      {
                        "bin_end": 2.332,
                        "bin_start": 2.076,
                        "count": 0
                      },
                      {
                        "bin_end": 2.588,
                        "bin_start": 2.332,
                        "count": 0
                      },
                      {
                        "bin_end": 2.8440000000000003,
                        "bin_start": 2.588,
                        "count": 0
                      },
                      {
                        "bin_end": 3.1,
                        "bin_start": 2.8440000000000003,
                        "count": 1
                      }
                    ],
                    "max": "3.1",
                    "min": "0.54",
                    "nan_count": 0,
                    "unique_count": 4
                  }
                },
                {
                  "dtype": "int64",
                  "name": "quantity",
                  "stats": {
                    "histogram": [
                      {
                        "bin_end": 10539.6,
                        "bin_start": 7056,
                        "count": 1
                      },
                      {
                        "bin_end": 14023.2,
                        "bin_start": 10539.6,
                        "count": 1
                      },
                      {
                        "bin_end": 17506.8,
                        "bin_start": 14023.2,
                        "count": 0
                      },
                      {
                        "bin_end": 20990.4,
                        "bin_start": 17506.8,
                        "count": 0
                      },
                      {
                        "bin_end": 24474,
                        "bin_start": 20990.4,
                        "count": 1
                      },
                      {
                        "bin_end": 27957.6,
                        "bin_start": 24474,
                        "count": 1
                      },
                      {
                        "bin_end": 31441.2,
                        "bin_start": 27957.6,
                        "count": 0
                      },
                      {
                        "bin_end": 34924.8,
                        "bin_start": 31441.2,
                        "count": 0
                      },
                      {
                        "bin_end": 38408.399999999994,
                        "bin_start": 34924.8,
                        "count": 0
                      },
                      {
                        "bin_end": 41892,
                        "bin_start": 38408.399999999994,
                        "count": 1
                      }
                    ],
                    "max": "41892",
                    "min": "7056",
                    "nan_count": 0,
                    "unique_count": 5
                  }
                },
                {
                  "dtype": "int64",
                  "name": "_deepnote_index_column"
                }
              ],
              "row_count": 5,
              "rows": [
                {
                  "_deepnote_index_column": 0,
                  "brand": "kinder-cola",
                  "capacity": "1.5lt",
                  "city": "Athens",
                  "container": "plastic",
                  "date": "2018-01-31 00:00:00",
                  "id": 6480,
                  "lat": 37.97945,
                  "long": 23.71622,
                  "pop": 664046,
                  "price": 3.1,
                  "quantity": 7056,
                  "shop": "shop_1"
                },
                {
                  "_deepnote_index_column": 1,
                  "brand": "kinder-cola",
                  "capacity": "330ml",
                  "city": "Athens",
                  "container": "can",
                  "date": "2018-01-31 00:00:00",
                  "id": 6481,
                  "lat": 37.97945,
                  "long": 23.71622,
                  "pop": 664046,
                  "price": 0.85,
                  "quantity": 12490,
                  "shop": "shop_1"
                },
                {
                  "_deepnote_index_column": 2,
                  "brand": "adult-cola",
                  "capacity": "500ml",
                  "city": "Athens",
                  "container": "glass",
                  "date": "2018-01-31 00:00:00",
                  "id": 6482,
                  "lat": 37.97945,
                  "long": 23.71622,
                  "pop": 664046,
                  "price": 0.83,
                  "quantity": 26640,
                  "shop": "shop_1"
                },
                {
                  "_deepnote_index_column": 3,
                  "brand": "orange-power",
                  "capacity": "500ml",
                  "city": "Athens",
                  "container": "glass",
                  "date": "2018-01-31 00:00:00",
                  "id": 6483,
                  "lat": 37.97945,
                  "long": 23.71622,
                  "pop": 664046,
                  "price": 0.54,
                  "quantity": 41892,
                  "shop": "shop_1"
                },
                {
                  "_deepnote_index_column": 4,
                  "brand": "orange-power",
                  "capacity": "1.5lt",
                  "city": "Athens",
                  "container": "plastic",
                  "date": "2018-01-31 00:00:00",
                  "id": 6484,
                  "lat": 37.97945,
                  "long": 23.71622,
                  "pop": 664046,
                  "price": 0.83,
                  "quantity": 22923,
                  "shop": "shop_1"
                }
              ]
            },
            "text/html": [
              "<div>\n",
              "<style scoped>\n",
              "    .dataframe tbody tr th:only-of-type {\n",
              "        vertical-align: middle;\n",
              "    }\n",
              "\n",
              "    .dataframe tbody tr th {\n",
              "        vertical-align: top;\n",
              "    }\n",
              "\n",
              "    .dataframe thead th {\n",
              "        text-align: right;\n",
              "    }\n",
              "</style>\n",
              "<table border=\"1\" class=\"dataframe\">\n",
              "  <thead>\n",
              "    <tr style=\"text-align: right;\">\n",
              "      <th></th>\n",
              "      <th>id</th>\n",
              "      <th>date</th>\n",
              "      <th>city</th>\n",
              "      <th>lat</th>\n",
              "      <th>long</th>\n",
              "      <th>pop</th>\n",
              "      <th>shop</th>\n",
              "      <th>brand</th>\n",
              "      <th>container</th>\n",
              "      <th>capacity</th>\n",
              "      <th>price</th>\n",
              "      <th>quantity</th>\n",
              "    </tr>\n",
              "  </thead>\n",
              "  <tbody>\n",
              "    <tr>\n",
              "      <th>0</th>\n",
              "      <td>6480</td>\n",
              "      <td>2018-01-31</td>\n",
              "      <td>Athens</td>\n",
              "      <td>37.97945</td>\n",
              "      <td>23.71622</td>\n",
              "      <td>664046</td>\n",
              "      <td>shop_1</td>\n",
              "      <td>kinder-cola</td>\n",
              "      <td>plastic</td>\n",
              "      <td>1.5lt</td>\n",
              "      <td>3.10</td>\n",
              "      <td>7056</td>\n",
              "    </tr>\n",
              "    <tr>\n",
              "      <th>1</th>\n",
              "      <td>6481</td>\n",
              "      <td>2018-01-31</td>\n",
              "      <td>Athens</td>\n",
              "      <td>37.97945</td>\n",
              "      <td>23.71622</td>\n",
              "      <td>664046</td>\n",
              "      <td>shop_1</td>\n",
              "      <td>kinder-cola</td>\n",
              "      <td>can</td>\n",
              "      <td>330ml</td>\n",
              "      <td>0.85</td>\n",
              "      <td>12490</td>\n",
              "    </tr>\n",
              "    <tr>\n",
              "      <th>2</th>\n",
              "      <td>6482</td>\n",
              "      <td>2018-01-31</td>\n",
              "      <td>Athens</td>\n",
              "      <td>37.97945</td>\n",
              "      <td>23.71622</td>\n",
              "      <td>664046</td>\n",
              "      <td>shop_1</td>\n",
              "      <td>adult-cola</td>\n",
              "      <td>glass</td>\n",
              "      <td>500ml</td>\n",
              "      <td>0.83</td>\n",
              "      <td>26640</td>\n",
              "    </tr>\n",
              "    <tr>\n",
              "      <th>3</th>\n",
              "      <td>6483</td>\n",
              "      <td>2018-01-31</td>\n",
              "      <td>Athens</td>\n",
              "      <td>37.97945</td>\n",
              "      <td>23.71622</td>\n",
              "      <td>664046</td>\n",
              "      <td>shop_1</td>\n",
              "      <td>orange-power</td>\n",
              "      <td>glass</td>\n",
              "      <td>500ml</td>\n",
              "      <td>0.54</td>\n",
              "      <td>41892</td>\n",
              "    </tr>\n",
              "    <tr>\n",
              "      <th>4</th>\n",
              "      <td>6484</td>\n",
              "      <td>2018-01-31</td>\n",
              "      <td>Athens</td>\n",
              "      <td>37.97945</td>\n",
              "      <td>23.71622</td>\n",
              "      <td>664046</td>\n",
              "      <td>shop_1</td>\n",
              "      <td>orange-power</td>\n",
              "      <td>plastic</td>\n",
              "      <td>1.5lt</td>\n",
              "      <td>0.83</td>\n",
              "      <td>22923</td>\n",
              "    </tr>\n",
              "  </tbody>\n",
              "</table>\n",
              "</div>"
            ],
            "text/plain": [
              "     id       date    city       lat      long     pop    shop         brand  \\\n",
              "0  6480 2018-01-31  Athens  37.97945  23.71622  664046  shop_1   kinder-cola   \n",
              "1  6481 2018-01-31  Athens  37.97945  23.71622  664046  shop_1   kinder-cola   \n",
              "2  6482 2018-01-31  Athens  37.97945  23.71622  664046  shop_1    adult-cola   \n",
              "3  6483 2018-01-31  Athens  37.97945  23.71622  664046  shop_1  orange-power   \n",
              "4  6484 2018-01-31  Athens  37.97945  23.71622  664046  shop_1  orange-power   \n",
              "\n",
              "  container capacity  price  quantity  \n",
              "0   plastic    1.5lt   3.10      7056  \n",
              "1       can    330ml   0.85     12490  \n",
              "2     glass    500ml   0.83     26640  \n",
              "3     glass    500ml   0.54     41892  \n",
              "4   plastic    1.5lt   0.83     22923  "
            ]
          },
          "execution_count": 2,
          "metadata": {},
          "output_type": "execute_result"
        }
      ],
      "source": [
        "import pandas as pd\n",
        "import numpy as np\n",
        "from datetime import datetime\n",
        "\n",
        "df = pd.read_csv('sales.csv')\n",
        "df['date'] = pd.to_datetime(df['date'])\n",
        "\n",
        "df.head()"
      ]
    },
    {
      "cell_type": "markdown",
      "metadata": {
        "cell_id": "b50db6f2cb804932ae3f9e5748a6ea61",
        "deepnote_cell_type": "markdown",
        "id": "pk4ru76pI5v_"
      },
      "source": [
        "## 1 Generando un Baseline (0.5 puntos)\n",
        "\n",
        "<p align=\"center\">\n",
        "  <img src=\"https://media.tenor.com/O-lan6TkadUAAAAC/what-i-wnna-do-after-a-baseline.gif\">\n",
        "</p>\n",
        "\n",
        "Antes de entrenar un algoritmo, usted recuerda los apuntes de su magíster en ciencia de datos y recuerda que debe seguir una serie de *buenas prácticas* para entrenar correcta y debidamente su modelo. Después de un par de vueltas, llega a las siguientes tareas:\n",
        "\n",
        "1. Separe los datos en conjuntos de train (70%), validation (20%) y test (10%). Fije una semilla para controlar la aleatoriedad.\n",
        "2. Implemente un `FunctionTransformer` para extraer el día, mes y año de la variable `date`. Guarde estas variables en el formato categorical de pandas.\n",
        "3. Implemente un `ColumnTransformer` para procesar de manera adecuada los datos numéricos y categóricos. Use `OneHotEncoder` para las variables categóricas.\n",
        "4. Guarde los pasos anteriores en un `Pipeline`, dejando como último paso el regresor `DummyRegressor` para generar predicciones en base a promedios.\n",
        "5. Entrene el pipeline anterior y reporte la métrica `mean_absolute_error` sobre los datos de validación. ¿Cómo se interpreta esta métrica para el contexto del negocio?\n",
        "6. Finalmente, vuelva a entrenar el `Pipeline` pero esta vez usando `XGBRegressor` como modelo **utilizando los parámetros por default**. ¿Cómo cambia el MAE al implementar este algoritmo? ¿Es mejor o peor que el `DummyRegressor`?\n",
        "7. Guarde ambos modelos en un archivo .pkl (uno cada uno)"
      ]
    },
    {
      "cell_type": "code",
      "execution_count": null,
      "metadata": {
        "cell_id": "1482c992d9494e5582b23dbd3431dbfd",
        "deepnote_cell_type": "code",
        "id": "sfnN7HubI5v_"
      },
      "outputs": [],
      "source": [
        "# Inserte su código acá"
      ]
    },
    {
      "cell_type": "markdown",
      "metadata": {
        "cell_id": "7e17e46063774ec28226fe300d42ffe0",
        "deepnote_cell_type": "markdown",
        "id": "wnyMINdKI5v_"
      },
      "source": [
        "## 2. Forzando relaciones entre parámetros con XGBoost (1.0 puntos)\n",
        "\n",
        "<p align=\"center\">\n",
        "  <img src=\"https://64.media.tumblr.com/14cc45f9610a6ee341a45fd0d68f4dde/20d11b36022bca7b-bf/s640x960/67ab1db12ff73a530f649ac455c000945d99c0d6.gif\">\n",
        "</p>\n",
        "\n",
        "Un colega aficionado a la economía le *sopla* que la demanda guarda una relación inversa con el precio del producto. Motivado para impresionar al querido corpóreo, se propone hacer uso de esta información para mejorar su modelo realizando las siguientes tareas:\n",
        "\n",
        "1. Vuelva a entrenar el `Pipeline`, pero esta vez forzando una relación monótona negativa entre el precio y la cantidad. Para aplicar esta restricción apóyese en la siguiente <a href = https://xgboost.readthedocs.io/en/stable/tutorials/monotonic.html>documentación</a>. Hint: Para implementar el constraint se le sugiere hacerlo especificando el nombre de la variable. De ser así, probablemente le sea útil **mantener el formato de pandas** antes del step de entrenamiento.\n",
        "\n",
        "2. Luego, vuelva a reportar el `MAE` sobre el conjunto de validación.\n",
        "\n",
        "3. ¿Cómo cambia el error al incluir esta relación? ¿Tenía razón su amigo?\n",
        "\n",
        "\n"
      ]
    },
    {
      "cell_type": "code",
      "execution_count": null,
      "metadata": {
        "cell_id": "f469f3b572be434191d2d5c3f11b20d2",
        "deepnote_cell_type": "code",
        "id": "B7tMnkiAI5v_"
      },
      "outputs": [],
      "source": [
        "# Inserte su código acá"
      ]
    },
    {
      "cell_type": "markdown",
      "metadata": {
        "cell_id": "e59ef80ed20b4de8921f24da74e87374",
        "deepnote_cell_type": "markdown",
        "id": "5D5-tX4dI5v_"
      },
      "source": [
        "## 3. Optimización de Hiperparámetros con Optuna (2.0 puntos)\n",
        "\n",
        "<p align=\"center\">\n",
        "  <img src=\"https://media.tenor.com/fmNdyGN4z5kAAAAi/hacking-lucy.gif\">\n",
        "</p>\n",
        "\n",
        "Luego de presentarle sus resultados, Fiu le pregunta si es posible mejorar *aun más* su modelo. En particular, le comenta de la optimización de hiperparámetros con metodologías bayesianas a través del paquete `optuna`. Como usted es un aficionado al entrenamiento de modelos de ML, se propone implementar la descabellada idea de su jefe.\n",
        "\n",
        "A partir de la mejor configuración obtenida en la sección anterior, utilice `optuna` para optimizar sus hiperparámetros. En particular, se le pide:\n",
        "\n",
        "- Fijar una semilla en las instancias necesarias para garantizar la reproducibilidad de resultados\n",
        "- Utilice `TPESampler` como método de muestreo\n",
        "- De `XGBRegressor`, optimice los siguientes hiperparámetros:\n",
        "    - `learning_rate` buscando valores flotantes en el rango (0.001, 0.1)\n",
        "    - `n_estimators` buscando valores enteros en el rango (50, 1000)\n",
        "    - `max_depth` buscando valores enteros en el rango (3, 10)\n",
        "    - `max_leaves` buscando valores enteros en el rango (0, 100)\n",
        "    - `min_child_weight` buscando valores enteros en el rango (1, 5)\n",
        "    - `reg_alpha` buscando valores flotantes en el rango (0, 1)\n",
        "    - `reg_lambda` buscando valores flotantes en el rango (0, 1)\n",
        "- De `OneHotEncoder`, optimice el hiperparámetro `min_frequency` buscando el mejor valor flotante en el rango (0.0, 1.0)\n",
        "- Explique cada hiperparámetro y su rol en el modelo. ¿Hacen sentido los rangos de optimización indicados?\n",
        "- Fije el tiempo de entrenamiento a 5 minutos\n",
        "- Reportar el número de *trials*, el `MAE` y los mejores hiperparámetros encontrados. ¿Cómo cambian sus resultados con respecto a la sección anterior? ¿A qué se puede deber esto?\n",
        "- Guardar su modelo en un archivo .pkl"
      ]
    },
    {
      "cell_type": "code",
      "execution_count": null,
      "metadata": {
        "cell_id": "de5914621cc64cb0b1bacb9ff565a97e",
        "deepnote_cell_type": "code",
        "id": "kMXXi1ckI5v_"
      },
      "outputs": [],
      "source": [
        "# Inserte su código acá"
      ]
    },
    {
      "cell_type": "markdown",
      "metadata": {
        "cell_id": "5195ccfc37e044ad9453f6eb2754f631",
        "deepnote_cell_type": "markdown",
        "id": "ZglyD_QWI5wA"
      },
      "source": [
        "## 4. Optimización de Hiperparámetros con Optuna y Prunners (1.7)\n",
        "\n",
        "<p align=\"center\">\n",
        "  <img src=\"https://i.pinimg.com/originals/90/16/f9/9016f919c2259f3d0e8fe465049638a7.gif\">\n",
        "</p>\n",
        "\n",
        "Después de optimizar el rendimiento de su modelo varias veces, Fiu le pregunta si no es posible optimizar el entrenamiento del modelo en sí mismo. Después de leer un par de post de personas de dudosa reputación en la *deepweb*, usted llega a la conclusión que puede cumplir este objetivo mediante la implementación de **Prunning**.\n",
        "\n",
        "Vuelva a optimizar los mismos hiperparámetros que la sección pasada, pero esta vez utilizando **Prunning** en la optimización. En particular, usted debe:\n",
        "\n",
        "- Responder: ¿Qué es prunning? ¿De qué forma debería impactar en el entrenamiento?\n",
        "- Utilizar `optuna.integration.XGBoostPruningCallback` como método de **Prunning**\n",
        "- Fijar nuevamente el tiempo de entrenamiento a 5 minutos\n",
        "- Reportar el número de *trials*, el `MAE` y los mejores hiperparámetros encontrados. ¿Cómo cambian sus resultados con respecto a la sección anterior? ¿A qué se puede deber esto?\n",
        "- Guardar su modelo en un archivo .pkl\n",
        "\n",
        "Nota: Si quieren silenciar los prints obtenidos en el prunning, pueden hacerlo mediante el siguiente comando:\n",
        "\n",
        "```\n",
        "optuna.logging.set_verbosity(optuna.logging.WARNING)\n",
        "```\n",
        "\n",
        "De implementar la opción anterior, pueden especificar `show_progress_bar = True` en el método `optimize` para *más sabor*.\n",
        "\n",
        "Hint: Si quieren especificar parámetros del método .fit() del modelo a través del pipeline, pueden hacerlo por medio de la siguiente sintaxis: `pipeline.fit(stepmodelo__parametro = valor)`\n",
        "\n",
        "Hint2: Este <a href = https://stackoverflow.com/questions/40329576/sklearn-pass-fit-parameters-to-xgboost-in-pipeline>enlace</a> les puede ser de ayuda en su implementación"
      ]
    },
    {
      "cell_type": "code",
      "execution_count": null,
      "metadata": {
        "cell_id": "eeaa967cd8f6426d8c54f276c17dce79",
        "deepnote_cell_type": "code",
        "id": "sST6Wtj5I5wA"
      },
      "outputs": [],
      "source": [
        "# Inserte su código acá"
      ]
    },
    {
      "cell_type": "markdown",
      "metadata": {
        "cell_id": "8a081778cc704fc6bed05393a5419327",
        "deepnote_cell_type": "markdown",
        "id": "ZMiiVaCUI5wA"
      },
      "source": [
        "## 5. Visualizaciones (0.5 puntos)\n",
        "\n",
        "<p align=\"center\">\n",
        "  <img src=\"https://media.tenor.com/F-LgB1xTebEAAAAd/look-at-this-graph-nickelback.gif\">\n",
        "</p>\n",
        "\n",
        "\n",
        "Satisfecho con su trabajo, Fiu le pregunta si es posible generar visualizaciones que permitan entender el entrenamiento de su modelo.\n",
        "\n",
        "A partir del siguiente <a href = https://optuna.readthedocs.io/en/stable/tutorial/10_key_features/005_visualization.html#visualization>enlace</a>, genere las siguientes visualizaciones:\n",
        "\n",
        "1. Gráfico de historial de optimización\n",
        "2. Gráfico de coordenadas paralelas\n",
        "3. Gráfico de importancia de hiperparámetros\n",
        "\n",
        "Comente sus resultados:\n",
        "\n",
        "4. ¿Desde qué *trial* se empiezan a observar mejoras notables en sus resultados?\n",
        "5. ¿Qué tendencias puede observar a partir del gráfico de coordenadas paralelas?\n",
        "6. ¿Cuáles son los hiperparámetros con mayor importancia para la optimización de su modelo?"
      ]
    },
    {
      "cell_type": "code",
      "execution_count": null,
      "metadata": {
        "cell_id": "0e706dc9a8d946eda7a9eb1f0463c6d7",
        "deepnote_cell_type": "code",
        "id": "xjxAEENAI5wA"
      },
      "outputs": [],
      "source": [
        "# Inserte su código acá"
      ]
    },
    {
      "cell_type": "markdown",
      "metadata": {
        "cell_id": "ac8a20f445d045a3becf1a518d410a7d",
        "deepnote_cell_type": "markdown",
        "id": "EoW32TA9I5wA"
      },
      "source": [
        "## 6. Síntesis de resultados (0.3)\n",
        "\n",
        "Finalmente:\n",
        "\n",
        "1. Genere una tabla resumen del MAE obtenido en los 5 modelos entrenados desde Baseline hasta XGBoost con Constraints, Optuna y Prunning.\n",
        "2. Compare los resultados de la tabla y responda, ¿qué modelo obtiene el mejor rendimiento?\n",
        "3. Cargue el mejor modelo, prediga sobre el conjunto de **test** y reporte su MAE.\n",
        "4. ¿Existen diferencias con respecto a las métricas obtenidas en el conjunto de validación? ¿Porqué puede ocurrir esto?"
      ]
    },
    {
      "cell_type": "code",
      "execution_count": null,
      "metadata": {
        "id": "jq5C6cDnJg9h"
      },
      "outputs": [],
      "source": [
        "# Inserte su código acá"
      ]
    },
    {
      "cell_type": "markdown",
      "metadata": {
        "cell_id": "5c4654d12037494fbd385b4dc6bd1059",
        "deepnote_cell_type": "markdown",
        "id": "E_19tgBEI5wA"
      },
      "source": [
        "# Conclusión\n",
        "Eso ha sido todo para el lab de hoy, recuerden que el laboratorio tiene un plazo de entrega de una semana. Cualquier duda del laboratorio, no duden en contactarnos por mail o U-cursos.\n",
        "\n",
        "<p align=\"center\">\n",
        "  <img src=\"https://media.tenor.com/8CT1AXElF_cAAAAC/gojo-satoru.gif\">\n",
        "</p>"
      ]
    },
    {
      "cell_type": "markdown",
      "metadata": {
        "cell_id": "5025de06759f4903a26916c80323bf25",
        "deepnote_cell_type": "markdown",
        "id": "Kq2cFix1I5wA"
      },
      "source": []
    },
    {
      "cell_type": "markdown",
      "metadata": {
        "created_in_deepnote_cell": true,
        "deepnote_cell_type": "markdown",
        "id": "rAp9UxwiI5wA"
      },
      "source": [
        "<a style='text-decoration:none;line-height:16px;display:flex;color:#5B5B62;padding:10px;justify-content:end;' href='https://deepnote.com?utm_source=created-in-deepnote-cell&projectId=87110296-876e-426f-b91d-aaf681223468' target=\"_blank\">\n",
        "<img alt='Created in deepnote.com' style='display:inline;max-height:16px;margin:0px;margin-right:7.5px;' src='data:image/svg+xml;base64,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' > </img>\n",
        "Created in <span style='font-weight:600;margin-left:4px;'>Deepnote</span></a>"
      ]
    }
  ],
  "metadata": {
    "colab": {
      "provenance": []
    },
    "deepnote": {},
    "deepnote_execution_queue": [],
    "deepnote_notebook_id": "f63d38450a6b464c9bb6385cf11db4d9",
    "deepnote_persisted_session": {
      "createdAt": "2023-11-09T16:18:30.203Z"
    },
    "kernelspec": {
      "display_name": "base",
      "language": "python",
      "name": "python3"
    },
    "language_info": {
      "codemirror_mode": {
        "name": "ipython",
        "version": 3
      },
      "file_extension": ".py",
      "mimetype": "text/x-python",
      "name": "python",
      "nbconvert_exporter": "python",
      "pygments_lexer": "ipython3",
      "version": "3.10.9"
    }
  },
  "nbformat": 4,
  "nbformat_minor": 0
}
